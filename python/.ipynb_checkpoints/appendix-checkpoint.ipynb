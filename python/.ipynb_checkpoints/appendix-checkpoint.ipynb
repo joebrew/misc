{
 "metadata": {
  "name": ""
 },
 "nbformat": 3,
 "nbformat_minor": 0,
 "worksheets": [
  {
   "cells": [
    {
     "cell_type": "code",
     "collapsed": false,
     "input": [
      "#####\n",
      "# CONVENTIONS\n",
      "#####\n",
      "import numpy as np\n",
      "import pandas as pd\n",
      "import matplotlib.pyplot as plt\n",
      "\n"
     ],
     "language": "python",
     "metadata": {},
     "outputs": [],
     "prompt_number": 1
    },
    {
     "cell_type": "code",
     "collapsed": false,
     "input": [
      "#####\n",
      "# APPENDIX: PYTHON LANGUAGES EXAMPLES\n",
      "#####\n"
     ],
     "language": "python",
     "metadata": {},
     "outputs": []
    },
    {
     "cell_type": "code",
     "collapsed": false,
     "input": [
      "#####\n",
      "# CHAPTER 2: INTRODUCTORY EXAMPLES\n",
      "#####"
     ],
     "language": "python",
     "metadata": {},
     "outputs": []
    },
    {
     "cell_type": "code",
     "collapsed": false,
     "input": [
      "# In ipython %run excutes code in the specified file in the same process\n",
      "# that way you can explore the results interactively when it's done.\n",
      "\n"
     ],
     "language": "python",
     "metadata": {},
     "outputs": []
    }
   ],
   "metadata": {}
  }
 ]
}