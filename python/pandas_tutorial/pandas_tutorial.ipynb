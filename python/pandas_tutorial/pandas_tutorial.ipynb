{
 "metadata": {
  "name": ""
 },
 "nbformat": 3,
 "nbformat_minor": 0,
 "worksheets": [
  {
   "cells": [
    {
     "cell_type": "code",
     "collapsed": false,
     "input": [
      "# Video: https://www.youtube.com/watch?v=w26x-z-BdWQ\n",
      "# Data: http://t.co/nz95bSTY+\n"
     ],
     "language": "python",
     "metadata": {},
     "outputs": [],
     "prompt_number": 1
    },
    {
     "cell_type": "code",
     "collapsed": false,
     "input": [
      "import pandas"
     ],
     "language": "python",
     "metadata": {},
     "outputs": [],
     "prompt_number": 1
    },
    {
     "cell_type": "code",
     "collapsed": false,
     "input": [
      "plot(arange(100))\n"
     ],
     "language": "python",
     "metadata": {},
     "outputs": [
      {
       "metadata": {},
       "output_type": "pyout",
       "prompt_number": 4,
       "text": [
        "[<matplotlib.lines.Line2D at 0x7f33916bac10>]"
       ]
      },
      {
       "metadata": {},
       "output_type": "display_data",
       "png": "[encoded data removed]",
       "text": [
        "<matplotlib.figure.Figure at 0x7f3392eb0a50>"
       ]
      }
     ],
     "prompt_number": 4
    },
    {
     "cell_type": "code",
     "collapsed": false,
     "input": [
      "# Ctrl m h = keyboard shortcuts\n",
      "# Ctrl m b = inserts cell below\n",
      "# Ctrl m a = inserts cell above\n",
      "# Ctrl m d = deletes cells"
     ],
     "language": "python",
     "metadata": {},
     "outputs": [],
     "prompt_number": 5
    },
    {
     "cell_type": "code",
     "collapsed": false,
     "input": [
      "# Data analysis with Python and Pandas - Wes McKinney\n",
      "# Pandas\n",
      "# -- Rich data maniupation tool built on top of numpy\n",
      "\n",
      "# OUR DATA\n",
      "# -- 2012 US presidential election disclosure data (json)\n",
      "# -- Baby names top boy names (csv)\n",
      "# -- USDA Food Nutrient database (json)\n",
      "\n",
      "# PANDAS DATA MODEL\n",
      "# -- Series: 1 dimension labeld NumPy array\n",
      "# -- DataFrame: 2 dimensional table with row and column labels, potentially hererogeneous\n",
      "\n",
      "# SERIES\n",
      "# -- Subclass of numpy.ndarray\n",
      "# -- Data: any dtype\n",
      "# -- Index labels need not be ordered\n",
      "# -- Duplicates are possible (but result in reduced functionality)\n",
      "# -- No restrictions on order, etc.\n",
      "\n",
      "# DATAFRAME\n",
      "# -- ndarray-like, but not ndarray\n",
      "# -- Each column can have a different dtype\n",
      "# -- Row and column index\n",
      "# -- Size mutable: insert and delete columns\n",
      "\n",
      "# INDEXES?\n",
      "# -- Every axis has an index\n",
      "# -- Used to implement\n",
      "# ---- Fast lookups\n",
      "# ---- Data alignment\n",
      "\n",
      "# DATA ALIGNMENT\n",
      "# -- Binary operations are joins!\n",
      "# -- \"Outer\" join by default\n",
      "# -- DataFrame joins / aligns on both axes (unions on both indeces)\n",
      "\n",
      "# HIERARCHICAL INDEXES\n",
      "# -- Semantics: a tuple at each tick\n",
      "# -- Enables easy group selection\n",
      "# -- Terminology: \"multiple levels\"\n",
      "# -- Natural part of GroupBy and reshape operations\n",
      "\n",
      "# IREEGULARLY-INDEXED DATA\n",
      "\n",
      "# AXIS METADATA\n",
      "# -- Encapsules relational information\n",
      "\n",
      "# GroupBy\n",
      "# -- Split\n",
      "# -- Apply a function (transformation, aggregation, etc.)\n",
      "# -- Combine\n",
      "\n",
      "# -- Splitting axis into groups\n",
      "# -- on a certain column, for example\n",
      "# ----- DataFrame columns\n",
      "# ---- Arrays of labels\n",
      "# ---- Functions, applied to axis labels\n",
      "# --- Many ways to work with grouped data\n",
      "\n",
      "# Example of GroupBy\n",
      "# # -- df.groupby([key1, key2],axis-0) # 0 for rows, 1 for columns\n",
      "# # -- key1 and key2 are functions, columns or arrays\n",
      "\n",
      "# A GroupBy object\n",
      "# -- Knows how to split the data\n",
      "# -- Then, what to do with it:\n",
      "# -- - Iterate:\n",
      "# -- -\n",
      "# 44 minutes\n",
      "\n"
     ],
     "language": "python",
     "metadata": {},
     "outputs": []
    }
   ],
   "metadata": {}
  }
 ]
}